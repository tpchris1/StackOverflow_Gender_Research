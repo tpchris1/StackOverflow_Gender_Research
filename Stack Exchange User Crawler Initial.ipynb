{
 "cells": [
  {
   "cell_type": "markdown",
   "metadata": {},
   "source": [
    "# Stack Exchange Gender Crawler"
   ]
  },
  {
   "cell_type": "markdown",
   "metadata": {},
   "source": [
    "## API Permission Settings \n",
    "1. log in your stackexchange account first"
   ]
  },
  {
   "cell_type": "code",
   "execution_count": null,
   "metadata": {},
   "outputs": [],
   "source": [
    "# put your application information here\n",
    "\n",
    "client_id = '' # client_id\n",
    "client_secret = '' # client_secret\n",
    "key = '' # key\n"
   ]
  },
  {
   "cell_type": "code",
   "execution_count": null,
   "metadata": {},
   "outputs": [],
   "source": [
    "from requests_oauthlib import OAuth2Session\n",
    "from pprint import pprint\n",
    "\n",
    "redirect_uri = 'https://stackexchange.com/oauth/login_success'\n",
    "scope = 'no_expiry'\n",
    "\n",
    "oauth = OAuth2Session(client_id, redirect_uri=redirect_uri, scope=scope)\n",
    "\n",
    "# pprint(vars(oauth))\n",
    "\n",
    "authorization_url, state = oauth.authorization_url('https://stackexchange.com/oauth/dialog')\n",
    "\n",
    "print(\"Please click in this link:\", authorization_url)"
   ]
  },
  {
   "cell_type": "code",
   "execution_count": null,
   "metadata": {},
   "outputs": [],
   "source": [
    "# copy the link from the browser and put in the 'response_url' below\n",
    "response_url = ''\n",
    "response_url = ''\n",
    "access_token = response_url.split('=')[1].split('&')[0]\n",
    "access_token"
   ]
  },
  {
   "cell_type": "markdown",
   "metadata": {},
   "source": [
    "## The initial crawler"
   ]
  },
  {
   "cell_type": "code",
   "execution_count": null,
   "metadata": {},
   "outputs": [],
   "source": [
    "import requests\n",
    "\n",
    "# BASEURL = \"https://api.stackexchange.com/2.2/info\"\n",
    "BASEURL = \"https://api.stackexchange.com/2.2/users\"\n",
    "\n",
    "# https://api.stackexchange.com/2.2/users?order=desc&sort=reputation&site=stackoverflow&filter=!)69QNaSIwI-L8npwI6YUwd1oloC2\n",
    "site = 'stackoverflow'\n",
    "page = 1\n",
    "pagesize = 100 # the maximum pagesize is 100\n",
    "order = 'desc'\n",
    "sort = 'reputation'\n",
    "filter_param = '!)69QNaSIwI-L8npwI6YUwd1oloC2'\n",
    "\n",
    "params = {\n",
    "    \"site\" : site,\n",
    "    \"page\" : page,\n",
    "    \"pagesize\": pagesize, \n",
    "    \"order\": order,\n",
    "    \"sort\": sort,\n",
    "    \"filter\": filter_param,\n",
    "    \"access_token\" : access_token,\n",
    "    \"key\" : key # change the key to your \n",
    "}\n",
    "\n",
    "\n",
    "r = requests.get(BASEURL, params=params)\n",
    "\n",
    "r.json()"
   ]
  },
  {
   "cell_type": "code",
   "execution_count": null,
   "metadata": {
    "scrolled": true
   },
   "outputs": [],
   "source": [
    "users = r.json()['items']\n",
    "users_len = len(r.json()['items'])\n",
    "users[0]"
   ]
  },
  {
   "cell_type": "markdown",
   "metadata": {},
   "source": [
    "## The loop crawler"
   ]
  },
  {
   "cell_type": "markdown",
   "metadata": {},
   "source": [
    "### settings"
   ]
  },
  {
   "cell_type": "code",
   "execution_count": null,
   "metadata": {},
   "outputs": [],
   "source": [
    "BASEURL = \"https://api.stackexchange.com/2.2/users\"\n",
    "\n",
    "\n",
    "# https://api.stackexchange.com/2.2/users?order=desc&sort=reputation&site=stackoverflow&filter=!)69QNaSIwI-L8npwI6YUwd1oloC2\n",
    "site = 'stackoverflow'\n",
    "page = 1\n",
    "pagesize = 100 # the maximum pagesize is 100\n",
    "order = 'desc'\n",
    "sort = 'reputation'\n",
    "filter_param = '!)69QNaSIwI-L8npwI6YUwd1oloC2'\n",
    "\n",
    "params = {\n",
    "    \"site\" : site,\n",
    "    \"page\" : page,\n",
    "    \"pagesize\": pagesize, \n",
    "    \"order\": order,\n",
    "    \"sort\": sort,\n",
    "    \"filter\": filter_param,\n",
    "    \"access_token\" : access_token,\n",
    "    \"key\" : key # change the key to your \n",
    "}"
   ]
  },
  {
   "cell_type": "markdown",
   "metadata": {},
   "source": [
    "### the loop process"
   ]
  },
  {
   "cell_type": "code",
   "execution_count": null,
   "metadata": {},
   "outputs": [],
   "source": [
    "import time\n",
    "\n",
    "page_range = [200,205] # please define your page_range given  \n",
    "\n",
    "users = []\n",
    "\n",
    "for i in range(page_range[0],page_range[1]):\n",
    "    if 'backoff' in r.json().keys():\n",
    "        sleep_time = r.json()['backoff']\n",
    "        print('backoff:', sleep_time)\n",
    "    time.sleep(sleep_time)\n",
    "    \n",
    "    page = i\n",
    "    r = requests.get(BASEURL, params=params)\n",
    "    print('page:', page, r, 'quota_remaining', r.json()['quota_remaining'])\n",
    "    if r.status_code == 200:\n",
    "        users += r.json()['items']\n",
    "    sleep_time = 0\n",
    "    \n",
    "len(users)"
   ]
  }
 ],
 "metadata": {
  "kernelspec": {
   "display_name": "Python 3",
   "language": "python",
   "name": "python3"
  },
  "language_info": {
   "codemirror_mode": {
    "name": "ipython",
    "version": 3
   },
   "file_extension": ".py",
   "mimetype": "text/x-python",
   "name": "python",
   "nbconvert_exporter": "python",
   "pygments_lexer": "ipython3",
   "version": "3.7.3"
  }
 },
 "nbformat": 4,
 "nbformat_minor": 2
}
