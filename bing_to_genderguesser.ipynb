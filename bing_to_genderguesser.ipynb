{
 "cells": [
  {
   "cell_type": "code",
   "execution_count": null,
   "metadata": {
    "scrolled": true
   },
   "outputs": [],
   "source": [
    "COUNTRIES = u\"\"\"great_britain ireland usa italy malta portugal spain france\n",
    "                   belgium luxembourg the_netherlands east_frisia germany austria\n",
    "                   swiss iceland denmark norway sweden finland estonia latvia\n",
    "                   lithuania poland czech_republic slovakia hungary romania\n",
    "                   bulgaria bosniaand croatia kosovo macedonia montenegro serbia\n",
    "                   slovenia albania greece russia belarus moldova ukraine armenia\n",
    "                   azerbaijan georgia the_stans turkey arabia israel china india\n",
    "                   japan korea vietnam other_countries\n",
    "                 \"\"\".split()\n",
    "COUNTRIES"
   ]
  },
  {
   "cell_type": "code",
   "execution_count": 1,
   "metadata": {},
   "outputs": [
    {
     "data": {
      "text/plain": [
       "[{'access_points': [],\n",
       "  'address_components': [{'long_name': '800',\n",
       "    'short_name': '800',\n",
       "    'types': ['street_number']},\n",
       "   {'long_name': 'West Laurel Street',\n",
       "    'short_name': 'W Laurel St',\n",
       "    'types': ['route']},\n",
       "   {'long_name': 'Independence',\n",
       "    'short_name': 'Independence',\n",
       "    'types': ['locality', 'political']},\n",
       "   {'long_name': 'Montgomery County',\n",
       "    'short_name': 'Montgomery County',\n",
       "    'types': ['administrative_area_level_2', 'political']},\n",
       "   {'long_name': 'Kansas',\n",
       "    'short_name': 'KS',\n",
       "    'types': ['administrative_area_level_1', 'political']},\n",
       "   {'long_name': 'United States',\n",
       "    'short_name': 'US',\n",
       "    'types': ['country', 'political']},\n",
       "   {'long_name': '67301', 'short_name': '67301', 'types': ['postal_code']}],\n",
       "  'formatted_address': '800 W Laurel St, Independence, KS 67301, USA',\n",
       "  'geometry': {'location': {'lat': 37.2256055, 'lng': -95.7162018},\n",
       "   'location_type': 'ROOFTOP',\n",
       "   'viewport': {'northeast': {'lat': 37.2269544802915,\n",
       "     'lng': -95.7148528197085},\n",
       "    'southwest': {'lat': 37.2242565197085, 'lng': -95.7175507802915}}},\n",
       "  'place_id': 'ChIJJ7DaD0cruIcRILKt06GMNBE',\n",
       "  'plus_code': {'compound_code': '67GM+6G Independence, KS, United States',\n",
       "   'global_code': '869667GM+6G'},\n",
       "  'types': ['doctor', 'establishment', 'health', 'point_of_interest']}]"
      ]
     },
     "execution_count": 1,
     "metadata": {},
     "output_type": "execute_result"
    }
   ],
   "source": [
    "import googlemaps\n",
    "\n",
    "gmaps = googlemaps.Client(key='')\n",
    "geocode_result = gmaps.geocode('nan')\n",
    "geocode_result"
   ]
  },
  {
   "cell_type": "code",
   "execution_count": null,
   "metadata": {},
   "outputs": [],
   "source": [
    "import googlemaps\n",
    "\n",
    "gmaps = googlemaps.Client(key='')\n",
    "\n",
    "temp_mapping = {}\n",
    "\n",
    "# Geocoding an address\n",
    "for j in COUNTRIES:\n",
    "    geocode_result = gmaps.geocode(j)\n",
    "    if len(geocode_result) > 0:\n",
    "        for i in geocode_result[0]['address_components']:\n",
    "            if i['types'][0] == 'country':\n",
    "                print(i)\n",
    "                temp_mapping[j] = i['long_name']\n",
    "    else:\n",
    "        print('error',j)\n",
    "temp_mapping['ireland'] = 'Ireland'\n",
    "\n",
    "actual_mapping = {}\n",
    "for i in temp_mapping.keys():\n",
    "    if temp_mapping[i] in actual_mapping.keys():\n",
    "        print('dup', temp_mapping[i])\n",
    "    else:\n",
    "        actual_mapping[temp_mapping[i]] = i\n",
    "actual_mapping"
   ]
  },
  {
   "cell_type": "code",
   "execution_count": null,
   "metadata": {},
   "outputs": [],
   "source": [
    "actual_mapping = {}\n",
    "for i in temp_mapping.keys():\n",
    "    if temp_mapping[i] in actual_mapping.keys():\n",
    "        print('dup', temp_mapping[i])\n",
    "    else:\n",
    "        actual_mapping[temp_mapping[i]] = i\n",
    "\n",
    "actual_mapping.pop('the_stans')\n",
    "actual_mapping\n",
    "for i in ['Kazakhstan','Kyrgyzstan','Tajikistan','Turkmenistan','Uzbekistan']:\n",
    "    actual_mapping[i] = 'the_stans'"
   ]
  },
  {
   "cell_type": "code",
   "execution_count": 88,
   "metadata": {},
   "outputs": [
    {
     "data": {
      "text/plain": [
       "{'United Kingdom': 'great_britain',\n",
       " 'United States': 'usa',\n",
       " 'Italy': 'italy',\n",
       " 'Malta': 'malta',\n",
       " 'Portugal': 'portugal',\n",
       " 'Spain': 'spain',\n",
       " 'France': 'france',\n",
       " 'Belgium': 'belgium',\n",
       " 'Luxembourg': 'luxembourg',\n",
       " 'Netherlands': 'the_netherlands',\n",
       " 'Germany': 'germany',\n",
       " 'Austria': 'austria',\n",
       " 'Switzerland': 'swiss',\n",
       " 'Iceland': 'iceland',\n",
       " 'Denmark': 'denmark',\n",
       " 'Norway': 'norway',\n",
       " 'Sweden': 'sweden',\n",
       " 'Finland': 'finland',\n",
       " 'Estonia': 'estonia',\n",
       " 'Latvia': 'latvia',\n",
       " 'Lithuania': 'lithuania',\n",
       " 'Poland': 'poland',\n",
       " 'Czechia': 'czech_republic',\n",
       " 'Slovakia': 'slovakia',\n",
       " 'Hungary': 'hungary',\n",
       " 'Romania': 'romania',\n",
       " 'Bulgaria': 'bulgaria',\n",
       " 'Bosnia and Herzegovina': 'bosniaand',\n",
       " 'Croatia': 'croatia',\n",
       " 'Kosovo': 'kosovo',\n",
       " 'North Macedonia': 'macedonia',\n",
       " 'Montenegro': 'montenegro',\n",
       " 'Serbia': 'serbia',\n",
       " 'Slovenia': 'slovenia',\n",
       " 'Albania': 'albania',\n",
       " 'Greece': 'greece',\n",
       " 'Russia': 'russia',\n",
       " 'Belarus': 'belarus',\n",
       " 'Moldova': 'moldova',\n",
       " 'Ukraine': 'ukraine',\n",
       " 'Armenia': 'armenia',\n",
       " 'Azerbaijan': 'azerbaijan',\n",
       " 'Georgia': 'georgia',\n",
       " 'Turkey': 'turkey',\n",
       " 'Israel': 'israel',\n",
       " 'China': 'china',\n",
       " 'India': 'india',\n",
       " 'Japan': 'japan',\n",
       " 'South Korea': 'korea',\n",
       " 'Vietnam': 'vietnam',\n",
       " 'Ireland': 'ireland',\n",
       " 'Kazakhstan': 'the_stans',\n",
       " 'Kyrgyzstan': 'the_stans',\n",
       " 'Tajikistan': 'the_stans',\n",
       " 'Turkmenistan': 'the_stans',\n",
       " 'Uzbekistan': 'the_stans'}"
      ]
     },
     "execution_count": 88,
     "metadata": {},
     "output_type": "execute_result"
    }
   ],
   "source": [
    "actual_mapping"
   ]
  },
  {
   "cell_type": "code",
   "execution_count": 96,
   "metadata": {},
   "outputs": [],
   "source": [
    "import pandas as pd\n",
    "\n",
    "df = pd.DataFrame.from_dict(actual_mapping, orient=\"index\")\n",
    "df.to_csv(\"gmap_to_genderguesser.csv\")"
   ]
  },
  {
   "cell_type": "markdown",
   "metadata": {},
   "source": [
    "## map with geopy"
   ]
  },
  {
   "cell_type": "code",
   "execution_count": null,
   "metadata": {},
   "outputs": [],
   "source": [
    "import geocoder\n",
    "import time\n",
    "\n",
    "map_countries = {}\n",
    "\n",
    "for i in COUNTRIES:\n",
    "    g = geocoder.bing(i,key=\"\")\n",
    "    geocoder_country = g.json['country']\n",
    "    map_countries[geocoder_country] = i\n",
    "    print(geocoder_country,i)\n",
    "    time.sleep(5)\n",
    "\n",
    "\n",
    "    \n"
   ]
  },
  {
   "cell_type": "code",
   "execution_count": null,
   "metadata": {},
   "outputs": [],
   "source": [
    "import pandas as pd\n",
    "\n",
    "\n",
    "df = pd.DataFrame.from_dict(map_countries, orient=\"index\")\n",
    "df.to_csv(\"country_bing_to_genderguesser.csv\")"
   ]
  },
  {
   "cell_type": "code",
   "execution_count": null,
   "metadata": {},
   "outputs": [],
   "source": [
    "import pandas as pd\n",
    "df = pd.read_csv(\"country_bing_to_genderguesser.csv\", index_col=0)\n",
    "d = df.to_dict(\"split\")\n",
    "d = dict(zip(d[\"index\"], d[\"data\"]))\n",
    "country_mapping = {}\n",
    "for i in d:\n",
    "    country_mapping[i] = d[i][0]\n",
    "country_mapping"
   ]
  }
 ],
 "metadata": {
  "kernelspec": {
   "display_name": "Python 3",
   "language": "python",
   "name": "python3"
  },
  "language_info": {
   "codemirror_mode": {
    "name": "ipython",
    "version": 3
   },
   "file_extension": ".py",
   "mimetype": "text/x-python",
   "name": "python",
   "nbconvert_exporter": "python",
   "pygments_lexer": "ipython3",
   "version": "3.7.3"
  }
 },
 "nbformat": 4,
 "nbformat_minor": 2
}